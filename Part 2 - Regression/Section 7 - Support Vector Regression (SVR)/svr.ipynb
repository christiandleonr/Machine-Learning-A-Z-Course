{
 "cells": [
  {
   "cell_type": "code",
   "execution_count": 36,
   "metadata": {
    "collapsed": true
   },
   "outputs": [],
   "source": [
    "# SVR\n",
    "\n",
    "# Importing the libraries\n",
    "\n",
    "import matplotlib.pyplot as plt\n",
    "import pandas as pd \n",
    "from sklearn.svm import SVR \n",
    "from sklearn.preprocessing import StandardScaler\n",
    "import numpy as np"
   ]
  },
  {
   "cell_type": "code",
   "execution_count": 22,
   "metadata": {},
   "outputs": [
    {
     "data": {
      "text/plain": [
       "array([  45000,   50000,   60000,   80000,  110000,  150000,  200000,\n        300000,  500000, 1000000], dtype=int64)"
      ]
     },
     "execution_count": 22,
     "metadata": {},
     "output_type": "execute_result"
    }
   ],
   "source": [
    "# Importing the data-set\n",
    "\n",
    "data = pd.read_csv('C:/Users/chris/PycharmProjects/MachineLearningA-ZCourse/Part 2 - Regression/Section 7 - '\n",
    "                   'Support Vector Regression (SVR)/Position_Salaries.csv')\n",
    "\n",
    "\"\"\"We need to take the independent variables\"\"\"\n",
    "\"\"\"We take the only independent variable have to be a matrix and for that reason we take it with this \n",
    "instruction 1:2 to indicate that it's a matrix\"\"\"\n",
    "X = data.iloc[:, 1:2].values\n",
    "\n",
    "\"\"\"We take the dependent variable\"\"\"\n",
    "y = data.iloc[:, 2].values"
   ]
  },
  {
   "cell_type": "code",
   "execution_count": 11,
   "metadata": {},
   "outputs": [
    {
     "data": {
      "text/plain": [
       "'X_train, X_test, y_train, y_test = train_test_split(X, y, test_size=1/3, random_state=0)'"
      ]
     },
     "execution_count": 11,
     "metadata": {},
     "output_type": "execute_result"
    }
   ],
   "source": [
    "# Splitting the data-set into the Training set and Test set\n",
    "\n",
    "\"\"\"We don't have to divide into the training and test sets because we will use all the data to fit the model\"\"\"\n",
    "\"\"\"X_train, X_test, y_train, y_test = train_test_split(X, y, test_size=1/3, random_state=0)\"\"\""
   ]
  },
  {
   "cell_type": "code",
   "execution_count": 24,
   "metadata": {},
   "outputs": [],
   "source": [
    "# Feature Scaling\n",
    "sc_X = StandardScaler()\n",
    "sc_y = StandardScaler()\n",
    "X = sc_X.fit_transform(X)\n",
    "\n",
    "\"\"\"In this part we reshape the array to be able to use the object sc_y\"\"\"\n",
    "y = y.reshape(-1, 1)\n",
    "y = sc_y.fit_transform(y)"
   ]
  },
  {
   "cell_type": "code",
   "execution_count": 29,
   "metadata": {},
   "outputs": [
    {
     "name": "stderr",
     "output_type": "stream",
     "text": [
      "c:\\users\\chris\\anaconda3\\envs\\ml37\\lib\\site-packages\\sklearn\\utils\\validation.py:724: DataConversionWarning: A column-vector y was passed when a 1d array was expected. Please change the shape of y to (n_samples, ), for example using ravel().\n  y = column_or_1d(y, warn=True)\n"
     ]
    },
    {
     "data": {
      "text/plain": [
       "SVR(C=1.0, cache_size=200, coef0=0.0, degree=3, epsilon=0.1,\n    gamma='auto_deprecated', kernel='rbf', max_iter=-1, shrinking=True,\n    tol=0.001, verbose=False)"
      ]
     },
     "execution_count": 29,
     "metadata": {},
     "output_type": "execute_result"
    }
   ],
   "source": [
    "# Fitting the Regression Model to the data-set\n",
    "\n",
    "regressor = SVR(kernel='rbf')\n",
    "regressor.fit(X, y)"
   ]
  },
  {
   "cell_type": "code",
   "execution_count": 40,
   "metadata": {},
   "outputs": [
    {
     "data": {
      "text/plain": [
       "array([252789.13921624])"
      ]
     },
     "execution_count": 40,
     "metadata": {},
     "output_type": "execute_result"
    }
   ],
   "source": [
    "# Predicting a new result with Polynomial Regression\n",
    "\n",
    "\"\"\"In this part we use the object sc_X to transform the value that we want to predict and then we use\n",
    "the sc_y object to do the inverse and get the real values\"\"\"\n",
    "\n",
    "sc_y.inverse_transform(regressor.predict(sc_X.transform([[6.5]])))"
   ]
  },
  {
   "cell_type": "code",
   "execution_count": 41,
   "metadata": {},
   "outputs": [],
   "source": [
    "# Visualizing the SVR results\n",
    "\n",
    "\"\"\"In this line we plot all points make by the relation of X: level and y: Salary\"\"\"\n",
    "plt.scatter(X, y, color='red')\n",
    "\n",
    "\"\"\"In this line we plot the train part and the prediction for the train part \n",
    "to create the line that represents the model\"\"\"\n",
    "plt.plot(X, regressor.predict(X), color='blue')\n",
    "\n",
    "plt.title('Truth or Bluff (SVR Model)')\n",
    "plt.xlabel('Position level')\n",
    "plt.ylabel('Salary')\n",
    "plt.show()"
   ]
  },
  {
   "cell_type": "code",
   "execution_count": 42,
   "metadata": {},
   "outputs": [],
   "source": [
    "# Visualizing the Regression model results (for higher resolution and smoother curve)\n",
    "\n",
    "\"\"\"With this we make a more continuous line making the range of values smaller, incrementing of 0.1\"\"\"\n",
    "X_grid = np.arange(min(X), max(X), 0.1)\n",
    "\"\"\"This line is only to reshape the training set into a matrix\"\"\"\n",
    "X_grid = X_grid.reshape((len(X_grid), 1))\n",
    "\n",
    "\"\"\"In this line we plot all point make by the relation of X: level and y: Salary\"\"\"\n",
    "plt.scatter(X, y, color='red')\n",
    "\n",
    "\"\"\"In this line we plot the train part and the prediction for the train part \n",
    "to create the line that represents the model\"\"\"\n",
    "plt.plot(X_grid, regressor.predict(X_grid), color='blue')\n",
    "\n",
    "plt.title('Truth or Bluff (Regression Model)')\n",
    "plt.xlabel('Position level')\n",
    "plt.ylabel('Salary')\n",
    "plt.show()"
   ]
  },
  {
   "cell_type": "code",
   "execution_count": null,
   "metadata": {},
   "outputs": [],
   "source": []
  }
 ],
 "metadata": {
  "kernelspec": {
   "display_name": "Python 2",
   "language": "python",
   "name": "python2"
  },
  "language_info": {
   "codemirror_mode": {
    "name": "ipython",
    "version": 2
   },
   "file_extension": ".py",
   "mimetype": "text/x-python",
   "name": "python",
   "nbconvert_exporter": "python",
   "pygments_lexer": "ipython2",
   "version": "2.7.6"
  }
 },
 "nbformat": 4,
 "nbformat_minor": 0
}
