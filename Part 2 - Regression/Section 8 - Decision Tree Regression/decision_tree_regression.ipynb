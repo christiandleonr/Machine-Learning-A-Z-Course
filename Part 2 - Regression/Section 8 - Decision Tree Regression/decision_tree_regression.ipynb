{
 "cells": [
  {
   "cell_type": "code",
   "execution_count": 12,
   "metadata": {
    "collapsed": true
   },
   "outputs": [],
   "source": [
    "# Decision Tree Regression\n",
    "\n",
    "# Importing the libraries\n",
    "import pandas as pd\n",
    "import matplotlib.pyplot as plt\n",
    "from sklearn.tree import DecisionTreeRegressor\n",
    "import numpy as np"
   ]
  },
  {
   "cell_type": "code",
   "execution_count": 3,
   "metadata": {},
   "outputs": [],
   "source": [
    "# Importing the data-set\n",
    "\n",
    "data = pd.read_csv('C:/Users/chris/PycharmProjects/MachineLearningA-ZCourse/Part 2 - Regression/Section 8 - '\n",
    "                   'Decision Tree Regression/Position_Salaries.csv')\n",
    "\n",
    "\"\"\"We need to take the independent variables\"\"\"\n",
    "\"\"\"We take the only independent variable have to be a matrix and for that reason we take it with this \n",
    "instruction 1:2 to indicate that it's a matrix\"\"\"\n",
    "X = data.iloc[:, 1:2].values\n",
    "\n",
    "\"\"\"We take the dependent variable\"\"\"\n",
    "y = data.iloc[:, 2].values"
   ]
  },
  {
   "cell_type": "code",
   "execution_count": 4,
   "metadata": {},
   "outputs": [
    {
     "data": {
      "text/plain": [
       "'X_train, X_test, y_train, y_test = train_test_split(X, y, test_size=1/3, random_state=0)'"
      ]
     },
     "execution_count": 4,
     "metadata": {},
     "output_type": "execute_result"
    }
   ],
   "source": [
    "# Splitting the data-set into the Training set and Test set\n",
    "\n",
    "\"\"\"We don't have to divide into the training and test sets because we will use all the data to fit the model\"\"\"\n",
    "\"\"\"X_train, X_test, y_train, y_test = train_test_split(X, y, test_size=1/3, random_state=0)\"\"\""
   ]
  },
  {
   "cell_type": "code",
   "execution_count": 5,
   "metadata": {},
   "outputs": [
    {
     "data": {
      "text/plain": [
       "'from sklearn.preprocessing import StandardScaler\\nsc_X = StandardScaler()\\nX_train = sc_X.fit_transform(X_train)\\nX_test = sc_X.transform(X_test)\\nsc_y = StandardScaler()\\ny_train = sc_y.fit_transform(y_train)'"
      ]
     },
     "execution_count": 5,
     "metadata": {},
     "output_type": "execute_result"
    }
   ],
   "source": [
    "# Feature Scaling\n",
    "\n",
    "\"\"\"from sklearn.preprocessing import StandardScaler\n",
    "sc_X = StandardScaler()\n",
    "X_train = sc_X.fit_transform(X_train)\n",
    "X_test = sc_X.transform(X_test)\n",
    "sc_y = StandardScaler()\n",
    "y_train = sc_y.fit_transform(y_train)\"\"\"\n"
   ]
  },
  {
   "cell_type": "code",
   "execution_count": 6,
   "metadata": {},
   "outputs": [
    {
     "data": {
      "text/plain": [
       "DecisionTreeRegressor(criterion='mse', max_depth=None, max_features=None,\n                      max_leaf_nodes=None, min_impurity_decrease=0.0,\n                      min_impurity_split=None, min_samples_leaf=1,\n                      min_samples_split=2, min_weight_fraction_leaf=0.0,\n                      presort=False, random_state=0, splitter='best')"
      ]
     },
     "execution_count": 6,
     "metadata": {},
     "output_type": "execute_result"
    }
   ],
   "source": [
    "# Fitting the Regression Model to the data-set\n",
    "regressor = DecisionTreeRegressor(random_state=0)\n",
    "regressor.fit(X, y)\n"
   ]
  },
  {
   "cell_type": "code",
   "execution_count": 9,
   "metadata": {},
   "outputs": [
    {
     "data": {
      "text/plain": [
       "array([150000.])"
      ]
     },
     "execution_count": 9,
     "metadata": {},
     "output_type": "execute_result"
    }
   ],
   "source": [
    "# Predicting a new result with Polynomial Regression\n",
    "regressor.predict([[6.5]])"
   ]
  },
  {
   "cell_type": "code",
   "execution_count": 10,
   "metadata": {},
   "outputs": [],
   "source": [
    "# Visualizing the Regression model results\n",
    "\n",
    "\"\"\"In this line we plot all point make by the relation of X: level and y: Salary\"\"\"\n",
    "plt.scatter(X, y, color='red')\n",
    "\n",
    "\"\"\"In this line we plot the train part and the prediction for the train part \n",
    "to create the line that represents the model\"\"\"\n",
    "plt.plot(X, regressor.predict(X), color='blue')\n",
    "\n",
    "plt.title('Truth or Bluff (Decision tree Regression)')\n",
    "plt.xlabel('Position level')\n",
    "plt.ylabel('Salary')\n",
    "plt.show()"
   ]
  },
  {
   "cell_type": "code",
   "execution_count": 16,
   "metadata": {},
   "outputs": [],
   "source": [
    "# Visualizing the Regression model results (for higher resolution and smoother curve)\n",
    "\n",
    "\"\"\"With this we make a more continuous line making the range of values smaller, incrementing of 0.1\"\"\"\n",
    "X_grid = np.arange(min(X), max(X), 0.01)\n",
    "\"\"\"This line is only to reshape the training set into a matrix\"\"\"\n",
    "X_grid = X_grid.reshape((len(X_grid), 1))\n",
    "\n",
    "\"\"\"In this line we plot all point make by the relation of X: level and y: Salary\"\"\"\n",
    "plt.scatter(X, y, color='red')\n",
    "\n",
    "\"\"\"In this line we plot the train part and the prediction for the train part \n",
    "to create the line that represents the model\"\"\"\n",
    "plt.plot(X_grid, regressor.predict(X_grid), color='blue')\n",
    "\n",
    "plt.title('Truth or Bluff (Decision Tree Regression)')\n",
    "plt.xlabel('Position level')\n",
    "plt.ylabel('Salary')\n",
    "plt.show()\n"
   ]
  },
  {
   "cell_type": "code",
   "execution_count": null,
   "metadata": {},
   "outputs": [],
   "source": []
  }
 ],
 "metadata": {
  "kernelspec": {
   "display_name": "Python 2",
   "language": "python",
   "name": "python2"
  },
  "language_info": {
   "codemirror_mode": {
    "name": "ipython",
    "version": 2
   },
   "file_extension": ".py",
   "mimetype": "text/x-python",
   "name": "python",
   "nbconvert_exporter": "python",
   "pygments_lexer": "ipython2",
   "version": "2.7.6"
  }
 },
 "nbformat": 4,
 "nbformat_minor": 0
}
