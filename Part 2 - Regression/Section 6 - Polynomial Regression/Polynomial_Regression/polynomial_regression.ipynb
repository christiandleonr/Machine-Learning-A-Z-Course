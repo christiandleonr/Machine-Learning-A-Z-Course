{
 "cells": [
  {
   "cell_type": "code",
   "execution_count": 1,
   "metadata": {
    "collapsed": true
   },
   "outputs": [],
   "source": [
    "# Polynomial Regression\n",
    "\n",
    "# Importing the libraries\n",
    "import pandas as pd\n",
    "from sklearn.linear_model import LinearRegression\n",
    "from sklearn.preprocessing import PolynomialFeatures\n",
    "import matplotlib.pyplot as plt\n",
    "import numpy as np"
   ]
  },
  {
   "cell_type": "code",
   "execution_count": 2,
   "metadata": {},
   "outputs": [],
   "source": [
    "# Importing the data-set\n",
    "\n",
    "data = pd.read_csv('C:/Users/chris/PycharmProjects/MachineLearningA-ZCourse/Part 2 - Regression/Section 6 - '\n",
    "                   'Polynomial Regression/Polynomial_Regression/Position_Salaries.csv')\n",
    "\n",
    "\"\"\"We need to take the independent variables\"\"\"\n",
    "\"\"\"We take the only independent variable have to be a matrix and for that reason we take it with this \n",
    "instruction 1:2 to indicate that it's a matrix\"\"\"\n",
    "X = data.iloc[:, 1:2].values\n",
    "\n",
    "\"\"\"We take the dependent variable\"\"\"\n",
    "y = data.iloc[:, 2].values"
   ]
  },
  {
   "cell_type": "code",
   "execution_count": 3,
   "metadata": {},
   "outputs": [
    {
     "data": {
      "text/plain": [
       "'X_train, X_test, y_train, y_test = train_test_split(X, y, test_size=1/3, random_state=0)'"
      ]
     },
     "execution_count": 3,
     "metadata": {},
     "output_type": "execute_result"
    }
   ],
   "source": [
    "# Splitting the data-set into the Training set and Test set\n",
    "\n",
    "\"\"\"We don't have to divide into the training and test sets because we will use all the data to fit the model\"\"\"\n",
    "\"\"\"X_train, X_test, y_train, y_test = train_test_split(X, y, test_size=1/3, random_state=0)\"\"\""
   ]
  },
  {
   "cell_type": "code",
   "execution_count": 4,
   "metadata": {},
   "outputs": [
    {
     "data": {
      "text/plain": [
       "'from sklearn.preprocessing import StandardScaler\\nsc_X = StandardScaler()\\nX_train = sc_X.fit_transform(X_train)\\nX_test = sc_X.transform(X_test)\\nsc_y = StandardScaler()\\ny_train = sc_y.fit_transform(y_train)'"
      ]
     },
     "execution_count": 4,
     "metadata": {},
     "output_type": "execute_result"
    }
   ],
   "source": [
    "# Feature Scaling\n",
    "\n",
    "\"\"\"from sklearn.preprocessing import StandardScaler\n",
    "sc_X = StandardScaler()\n",
    "X_train = sc_X.fit_transform(X_train)\n",
    "X_test = sc_X.transform(X_test)\n",
    "sc_y = StandardScaler()\n",
    "y_train = sc_y.fit_transform(y_train)\"\"\""
   ]
  },
  {
   "cell_type": "code",
   "execution_count": 5,
   "metadata": {},
   "outputs": [
    {
     "data": {
      "text/plain": [
       "LinearRegression(copy_X=True, fit_intercept=True, n_jobs=None, normalize=False)"
      ]
     },
     "execution_count": 37,
     "metadata": {},
     "output_type": "execute_result"
    },
    {
     "data": {
      "text/plain": [
       "LinearRegression(copy_X=True, fit_intercept=True, n_jobs=None, normalize=False)"
      ]
     },
     "execution_count": 5,
     "metadata": {},
     "output_type": "execute_result"
    }
   ],
   "source": [
    "# Fitting Linear Regression to the data-set\n",
    "\n",
    "\"\"\"Create a Simple Linear Regression to compare it with the Polynomial Regression\"\"\"\n",
    "linear_regressor = LinearRegression()\n",
    "linear_regressor.fit(X, y)"
   ]
  },
  {
   "cell_type": "code",
   "execution_count": 6,
   "metadata": {},
   "outputs": [
    {
     "data": {
      "text/plain": [
       "LinearRegression(copy_X=True, fit_intercept=True, n_jobs=None, normalize=False)"
      ]
     },
     "execution_count": 6,
     "metadata": {},
     "output_type": "execute_result"
    }
   ],
   "source": [
    "# Fitting polynomial Regression to the data-set\n",
    "\n",
    "\"\"\"We use the library PolynomialFeatures to transform our data set on a relation of x1 x1^2 x1^3 etc. \n",
    "This library add the column of ones to represent the constant b0 automatically\"\"\"\n",
    "polynomial_features = PolynomialFeatures(degree=4)\n",
    "X_polynomial = polynomial_features.fit_transform(X)\n",
    "\n",
    "\"\"\"We have to create a new Linear Regression model but now we will to train it with the Polynomial Features results\"\"\"\n",
    "linear_regressor_2 = LinearRegression()\n",
    "linear_regressor_2.fit(X_polynomial, y)"
   ]
  },
  {
   "cell_type": "code",
   "execution_count": 15,
   "metadata": {
    "collapsed": false
   },
   "outputs": [],
   "source": [
    "# Visualizing the Linear Regression results\n",
    "\n",
    "\"\"\"In this line we plot all point make by the relation of X: level and y: Salary\"\"\"\n",
    "plt.scatter(X, y, color='red')\n",
    "\n",
    "\"\"\"In this line we plot the train part and the prediction for the train part \n",
    "to create the line that represents the model\"\"\"\n",
    "plt.plot(X, linear_regressor.predict(X), color='blue')\n",
    "\n",
    "plt.title('Truth or Bluff (Linear Regression)')\n",
    "plt.xlabel('Position level')\n",
    "plt.ylabel('Salary')\n",
    "plt.show()\n"
   ]
  },
  {
   "cell_type": "code",
   "execution_count": 17,
   "metadata": {
    "collapsed": false
   },
   "outputs": [],
   "source": [
    "# Visualizing the Polynomial Regression results\n",
    "\n",
    "\"\"\"With this we make a more continuous line making the range of values smaller, incrementing of 0.1\"\"\"\n",
    "X_grid = np.arange(min(X), max(X), 0.1)\n",
    "\"\"\"This line is only to reshape the training set into a matrix\"\"\"\n",
    "X_grid = X_grid.reshape((len(X_grid), 1))\n",
    "\n",
    "\"\"\"In this line we plot all point make by the relation of X: level and y: Salary\"\"\"\n",
    "plt.scatter(X, y, color='red')\n",
    "\n",
    "\"\"\"In this line we plot the train part and the prediction for the train part \n",
    "to create the line that represents the model\"\"\"\n",
    "plt.plot(X, linear_regressor_2.predict(polynomial_features.fit_transform(X)), color='blue')\n",
    "\n",
    "plt.title('Truth or Bluff (Polynomial Regression)')\n",
    "plt.xlabel('Position level')\n",
    "plt.ylabel('Salary')\n",
    "plt.show()\n"
   ]
  },
  {
   "cell_type": "code",
   "execution_count": 13,
   "metadata": {},
   "outputs": [
    {
     "data": {
      "text/plain": [
       "array([330378.78787879])"
      ]
     },
     "execution_count": 13,
     "metadata": {},
     "output_type": "execute_result"
    }
   ],
   "source": [
    "# Predicting a new result with Linear Regression\n",
    "\"\"\"6.5 it's the level of the employee and te result of the prediction is the salary that he or she\n",
    "have to had in relation with her or his level according Linear Regression Model\"\"\"\n",
    "linear_regressor.predict([[6.5]])"
   ]
  },
  {
   "cell_type": "code",
   "execution_count": 14,
   "metadata": {},
   "outputs": [
    {
     "data": {
      "text/plain": [
       "array([158862.45265155])"
      ]
     },
     "execution_count": 14,
     "metadata": {},
     "output_type": "execute_result"
    }
   ],
   "source": [
    "# Predicting a new result with Polynomial Regression\n",
    "\"\"\"6.5 it's the level of the employee and te result of the prediction is the salary that he or she\n",
    "have to had in relation with her or his level according Polynomial Regression Model\"\"\"\n",
    "linear_regressor_2.predict(polynomial_features.fit_transform([[6.5]]))"
   ]
  },
  {
   "cell_type": "code",
   "execution_count": null,
   "metadata": {},
   "outputs": [],
   "source": []
  }
 ],
 "metadata": {
  "kernelspec": {
   "display_name": "Python 2",
   "language": "python",
   "name": "python2"
  },
  "language_info": {
   "codemirror_mode": {
    "name": "ipython",
    "version": 2
   },
   "file_extension": ".py",
   "mimetype": "text/x-python",
   "name": "python",
   "nbconvert_exporter": "python",
   "pygments_lexer": "ipython2",
   "version": "2.7.6"
  }
 },
 "nbformat": 4,
 "nbformat_minor": 0
}
